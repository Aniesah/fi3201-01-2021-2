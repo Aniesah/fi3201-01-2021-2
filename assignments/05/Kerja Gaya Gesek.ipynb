{
 "cells": [
  {
   "cell_type": "markdown",
   "id": "178a112b",
   "metadata": {},
   "source": [
    "# Kerja Gaya Gesek\n",
    "Aniesah Akhyar <br>\n",
    "Program Studi Sarjana Fisika, Institut Teknologi Bandung <br>\n",
    "Jalan Ganesha 10, Bandung 40132, Indonesia <br>\n",
    "aniesah.akhyar@gmail.com, https://github.com/Aniesah <br>\n",
    "\n",
    "Kerja yang dilakukan oleh gaya gesek merupakan bentuk kerja yang tidak diharapkan karena energi yang dikeluarkan, biasanya dalam bentuk panas atau bunyi yang dilepas ke lingkungan, tidak dapat dimanfaatkan lagi oleh sistem sehingga energi sistem berkurang."
   ]
  },
  {
   "cell_type": "markdown",
   "id": "d5870c1d",
   "metadata": {},
   "source": [
    "## Gerak benda di atas lantai mendatar kasar\n",
    "Sistem yang ditinjau adalah suatu benda yang bergerak di atas lantai mendatar kasar. Benda diberi kecepatan awal tertentu dan bergerak melambat sampai berhenti karena adanya gaya gesek kinetis antara benda dan lantai kasar."
   ]
  },
  {
   "cell_type": "markdown",
   "id": "1c084d61",
   "metadata": {},
   "source": [
    "## Parameter\n",
    "Beberapa parameter yang digunakan adalah seperti pada tabel berikut ini."
   ]
  },
  {
   "cell_type": "markdown",
   "id": "44d3f7b3",
   "metadata": {},
   "source": [
    "Tabel <a name='tab1'>1</a>. Simbol beserta satuan dan artinya."
   ]
  },
  {
   "cell_type": "markdown",
   "id": "6c470f9f",
   "metadata": {},
   "source": [
    "Simbol | Satuan | Arti\n",
    ":- | :- | :-\n",
    "$t$ | s | waktu\n",
    "$v_0$ | m/s | kecepatan awal\n",
    "$x_0$ | m | posisi awal\n",
    "$v$ | m/s | kecepatan saat $t$\n",
    "$x$ | m | waktu saat $t$\n",
    "$a$ | m/s<sup>2</sup> | percepatan\n",
    "$\\\\mu_k$ | - | koefisien gesek kinetis\n",
    "$f_k$ | N | gaya gesek kinetis\n",
    "$m$ | kg | massa benda\n",
    "$F$ | N | total gaya yang bekerja\n",
    "$N$ | N | gaya normal\n",
    "$w$ | N | gaya gravitasi\n",
    "\n",
    "Simbol-simbol pada Tabel [1](#tab1) akan diberi nilai kemudian saat diimplementasikan dalam program."
   ]
  },
  {
   "cell_type": "markdown",
   "id": "d19edee1",
   "metadata": {},
   "source": [
    "## Persamaan\n",
    "Persamaan-persamaan yang akan digunakan adalah seperti dicantumkan pada bagian ini."
   ]
  },
  {
   "cell_type": "markdown",
   "id": "3927ca92",
   "metadata": {},
   "source": [
    "### Kinematika\n",
    "Hubungan antara antara kecepatan $v$, kecepatan awal $v_0$, percepatan $a$, dan waktu $t$ diberikan oleh\n",
    "\n",
    "<a name='eqn1'></a>\n",
    "\\begin{equation}\n",
    "\\label{eqn:kinematics-v-a-t}\\tag{1}\n",
    "v = v_0 + at.\n",
    "\\end{equation}"
   ]
  },
  {
   "cell_type": "markdown",
   "id": "7a1bdd30",
   "metadata": {},
   "source": [
    "Posisi benda $x$ bergantung pada posisi awal $x_0$, kecepatan awal $v_0$, percepatan $a$, dan waktu $t$ melalui hubungan\n",
    "\n",
    "<a name='eqn2'></a>\n",
    "\\begin{equation}\\label{eqn:kinematics-x-v-a-t}\\tag{2}\n",
    "x = x_0 + v_0 t + \\tfrac12 at^2.\n",
    "\\end{equation}"
   ]
  },
  {
   "cell_type": "markdown",
   "id": "5b43eadb",
   "metadata": {},
   "source": [
    "Selain kedua persamaan sebelumnya, terdapat pula persamaan berikut\n",
    "\n",
    "<a name='eqn3'></a>\n",
    "\\begin{equation}\\label{eqn:kinematics-v-x-a}\\tag{3}\n",
    "v^2 = v_0^2 + 2a(x - x_0),\n",
    "\\end{equation}"
   ]
  },
  {
   "cell_type": "markdown",
   "id": "4f269245",
   "metadata": {},
   "source": [
    "yang menghubungkan kecepatan $v$ dengan kecepatan awal $v_0$, percepatan $a$, dan jarak yang ditempuh $x - x_0$."
   ]
  },
  {
   "cell_type": "markdown",
   "id": "2ed7ad3a",
   "metadata": {},
   "source": [
    "### Dinamika\n",
    "Hukum Newton I menyatakan bahwa benda yang semula diam akan tetap diam dan yang semula bergerak dengan kecepatan tetap akan tetap bergerak dengan kecepatan tetap bila tidak ada gaya yang bekerja pada benda atau jumlah gaya-gaya yang bekerja sama dengan nol"
   ]
  },
  {
   "cell_type": "markdown",
   "id": "ab25c535",
   "metadata": {},
   "source": [
    "<a name='eqn4'></a>\n",
    "\\begin{equation}\\label{eqn:newtons-law-1}\\tag{4}\n",
    "\\sum F = 0.\n",
    "\\end{equation}"
   ]
  },
  {
   "cell_type": "markdown",
   "id": "bc36a20d",
   "metadata": {},
   "source": [
    "Bila ada gaya yang bekerja pada benda bermassa $m$ atau jumlah gaya-gaya tidak nol\n",
    "\n",
    "<a name='eqn5'></a>\n",
    "\\begin{equation}\\label{eqn:newtons-law-2}\\tag{5}\n",
    "\\sum F = ma,\n",
    "\\end{equation}"
   ]
  },
  {
   "cell_type": "markdown",
   "id": "fe65ce62",
   "metadata": {},
   "source": [
    "maka keadaan gerak benda akan berubah melalui percepatan $a$, dengan $m > 0$"
   ]
  },
  {
   "cell_type": "markdown",
   "id": "361f91ca",
   "metadata": {},
   "source": [
    "### Usaha\n",
    "Usaha oleh suatu gaya $F$ dengan posisi awal $x_0$ dan posisi akhir $x_0$ dapat diperoleh melalui"
   ]
  },
  {
   "cell_type": "markdown",
   "id": "4c0c16a0",
   "metadata": {},
   "source": [
    "<a name='eqn6'></a>\n",
    "\\begin{equation}\\label{eqn:work-1}\\tag{6}\n",
    "W = \\int_{x_0}^x F dx\n",
    "\\end{equation}"
   ]
  },
  {
   "cell_type": "markdown",
   "id": "094abd63",
   "metadata": {},
   "source": [
    "atau dengan"
   ]
  },
  {
   "cell_type": "markdown",
   "id": "90019fc5",
   "metadata": {},
   "source": [
    "<a name='eqn7'></a>\n",
    "\\begin{equation}\\label{eqn:work-2}\\tag{7}\n",
    "W = \\Delta K\n",
    "\\end{equation}"
   ]
  }
 ],
 "metadata": {
  "kernelspec": {
   "display_name": "Python 3 (ipykernel)",
   "language": "python",
   "name": "python3"
  },
  "language_info": {
   "codemirror_mode": {
    "name": "ipython",
    "version": 3
   },
   "file_extension": ".py",
   "mimetype": "text/x-python",
   "name": "python",
   "nbconvert_exporter": "python",
   "pygments_lexer": "ipython3",
   "version": "3.9.7"
  }
 },
 "nbformat": 4,
 "nbformat_minor": 5
}
